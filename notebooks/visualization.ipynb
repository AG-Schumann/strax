{
 "cells": [
  {
   "cell_type": "code",
   "execution_count": null,
   "metadata": {},
   "outputs": [],
   "source": [
    "import numpy as np\n",
    "import pandas as pd\n",
    "\n",
    "import matplotlib\n",
    "import matplotlib.pyplot as plt\n",
    "%matplotlib inline\n",
    "\n",
    "\n",
    "import strax"
   ]
  },
  {
   "cell_type": "code",
   "execution_count": null,
   "metadata": {},
   "outputs": [],
   "source": [
    "records = strax.load('tl_z')\n",
    "strax.process.baseline(records)"
   ]
  },
  {
   "cell_type": "code",
   "execution_count": null,
   "metadata": {},
   "outputs": [],
   "source": [
    "from pax.configuration import load_configuration\n",
    "from pax.dsputils import adc_to_pe\n",
    "pax_config = load_configuration('XENON1T')[\"DEFAULT\"]\n",
    "#gains = np.array(pax_config['DEFAULT']['gains'])"
   ]
  },
  {
   "cell_type": "code",
   "execution_count": null,
   "metadata": {},
   "outputs": [],
   "source": [
    "to_pe = np.array([adc_to_pe(pax_config, ch) for ch in range(pax_config['n_channels'])])"
   ]
  },
  {
   "cell_type": "code",
   "execution_count": null,
   "metadata": {},
   "outputs": [],
   "source": [
    "# import numba\n",
    "\n",
    "# @numba.jit(nopython=True)\n",
    "# def to_pe(adc, channel, gains):\n",
    "#     output = np.zeros(len(adc), dtype=np.float32)\n",
    "    \n",
    "#     for i in range(len(adc)):\n",
    "#         output[i] = adc * ch\n",
    "    "
   ]
  },
  {
   "cell_type": "code",
   "execution_count": null,
   "metadata": {},
   "outputs": [],
   "source": [
    "times = records['time']\n",
    "areas = records['data'].sum(axis=1) * to_pe[records['channel']]"
   ]
  },
  {
   "cell_type": "code",
   "execution_count": null,
   "metadata": {},
   "outputs": [],
   "source": [
    "import holoviews as hv\n",
    "from holoviews.operation.datashader import aggregate, shade, datashade, dynspread\n",
    "from holoviews.operation import decimate\n",
    "hv.extension('bokeh')"
   ]
  },
  {
   "cell_type": "code",
   "execution_count": null,
   "metadata": {},
   "outputs": [],
   "source": [
    "loga = np.ones_like(areas) * -1\n",
    "loga[areas > 0] = np.log10(areas[areas > 0])\n",
    "loga[~(loga > -1)] = -1"
   ]
  },
  {
   "cell_type": "code",
   "execution_count": null,
   "metadata": {},
   "outputs": [],
   "source": [
    "t = (times - times[0])/1e9"
   ]
  },
  {
   "cell_type": "code",
   "execution_count": null,
   "metadata": {},
   "outputs": [],
   "source": [
    "df = pd.DataFrame(dict(log_area=loga, time=t, channel=records['channel']))"
   ]
  },
  {
   "cell_type": "code",
   "execution_count": null,
   "metadata": {},
   "outputs": [],
   "source": [
    "points = hv.Points(df, kdims=['time', \n",
    "                             hv.Dimension('channel', label='PMT number', range=(0, 260))\n",
    "                             ], vdims=['log_area'])\n",
    "points2 = points.clone()"
   ]
  },
  {
   "cell_type": "code",
   "execution_count": null,
   "metadata": {},
   "outputs": [],
   "source": [
    "# Log axis:\n",
    "#.opts(plot=dict(logy=True))"
   ]
  },
  {
   "cell_type": "code",
   "execution_count": null,
   "metadata": {},
   "outputs": [],
   "source": [
    "# Unspeakably evil hack to disable default tools (which I can't customize)\n",
    "hv.plotting.bokeh.element.ElementPlot.default_tools = 'save pan box_zoom reset'.split()\n",
    "\n",
    "# Custom wheel zoom tool that only zooms in time\n",
    "from bokeh.models import WheelZoomTool\n",
    "wzt = WheelZoomTool(dimensions='width')"
   ]
  },
  {
   "cell_type": "code",
   "execution_count": null,
   "metadata": {},
   "outputs": [],
   "source": [
    "points.dimensions"
   ]
  },
  {
   "cell_type": "code",
   "execution_count": null,
   "metadata": {},
   "outputs": [],
   "source": [
    "import datashader as ds"
   ]
  },
  {
   "cell_type": "code",
   "execution_count": null,
   "metadata": {},
   "outputs": [],
   "source": [
    "agg = aggregate(points2, \n",
    "                aggregator=ds.count(), \n",
    "                streams=[hv.streams.RangeX()], \n",
    "                #x_sampling=0.01, \n",
    "                width=900,\n",
    "                height=2)\n",
    "waveform = agg.map(lambda x: x.reduce(channel=np.sum), hv.Image)\n",
    "waveform"
   ]
  },
  {
   "cell_type": "code",
   "execution_count": null,
   "metadata": {
    "scrolled": false
   },
   "outputs": [],
   "source": [
    "%%opts RGB [width=900, tools=[wzt]]\n",
    "%%opts Curve [width=900, tools=[wzt]] \n",
    "\n",
    "agg = aggregate(points2, \n",
    "                aggregator=ds.count(), \n",
    "                streams=[hv.streams.RangeX(source=points)], \n",
    "                #x_sampling=0.01, \n",
    "                width=900,\n",
    "                height=2)\n",
    "waveform = agg.map(lambda x: x.reduce(channel=np.sum), hv.Image).opts(plot=dict(logy=True))\n",
    "\n",
    "channelmap = datashade(points,\n",
    "                       streams=[hv.streams.RangeX(source=points2)], \n",
    "                       y_range=(0, 260))\n",
    "\n",
    "(waveform + channelmap).cols(1)"
   ]
  },
  {
   "cell_type": "code",
   "execution_count": null,
   "metadata": {},
   "outputs": [],
   "source": [
    "bla[1].default_tools"
   ]
  },
  {
   "cell_type": "code",
   "execution_count": null,
   "metadata": {},
   "outputs": [],
   "source": []
  }
 ],
 "metadata": {
  "kernelspec": {
   "display_name": "Python 3",
   "language": "python",
   "name": "python3"
  },
  "language_info": {
   "codemirror_mode": {
    "name": "ipython",
    "version": 3
   },
   "file_extension": ".py",
   "mimetype": "text/x-python",
   "name": "python",
   "nbconvert_exporter": "python",
   "pygments_lexer": "ipython3",
   "version": "3.6.4"
  }
 },
 "nbformat": 4,
 "nbformat_minor": 2
}
