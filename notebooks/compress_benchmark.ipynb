{
 "cells": [
  {
   "cell_type": "code",
   "execution_count": 5,
   "metadata": {},
   "outputs": [],
   "source": [
    "import numpy as np\n",
    "import pandas as pd\n",
    "\n",
    "import matplotlib\n",
    "import matplotlib.pyplot as plt\n",
    "%matplotlib inline\n",
    "\n",
    "import strax"
   ]
  },
  {
   "cell_type": "code",
   "execution_count": 6,
   "metadata": {},
   "outputs": [],
   "source": [
    "# # Create a file with 300MB uncompressed data, which is 18.3% of the total data\n",
    "# # (the whole thing is > GB, which will probably cause swapping on my laptop)\n",
    "# import strax\n",
    "# records = strax.frompax.pax_to_records('./180215_1029')\n",
    "# f_stored = 300e6 / records.nbytes\n",
    "# records = records[:int(len(records) * f_stored)]\n",
    "# strax.save('triggerless_300MB.bin', records, compressor='blosc')\n",
    "# print(f_stored)"
   ]
  },
  {
   "cell_type": "code",
   "execution_count": 7,
   "metadata": {},
   "outputs": [],
   "source": [
    "zlib_pickles_reduction = (684e6 * 0.183) /300e6 \n",
    "zlib_pickles_time = 121 * 0.183"
   ]
  },
  {
   "cell_type": "code",
   "execution_count": 16,
   "metadata": {},
   "outputs": [],
   "source": [
    "records = strax.load('tl_z')\n",
    "records_raw = records.copy()\n",
    "strax.process.baseline(records)\n",
    "strax.cut_baseline(records)"
   ]
  },
  {
   "cell_type": "markdown",
   "metadata": {},
   "source": [
    "## Benchmark compressions"
   ]
  },
  {
   "cell_type": "code",
   "execution_count": 17,
   "metadata": {},
   "outputs": [
    {
     "name": "stdout",
     "output_type": "stream",
     "text": [
      "none\n",
      "bz2\n",
      "zstd\n",
      "blosc\n",
      "zlib\n",
      "snappy\n",
      "none\n",
      "bz2\n",
      "zstd\n",
      "blosc\n",
      "zlib\n",
      "snappy\n"
     ]
    }
   ],
   "source": [
    "import contexttimer as ctt\n",
    "import os\n",
    "from functools import partial\n",
    "\n",
    "# Add suboptimal compressors\n",
    "import snappy\n",
    "import zlib\n",
    "strax.data.COMPRESSORS.update(dict(\n",
    "    # zlib 4 matches level used in eventbuiler\n",
    "    zlib=dict(compress=partial(zlib.compress, level=4), decompress=zlib.decompress),\n",
    "    snappy=dict(compress=partial(snappy.compress), decompress=snappy.decompress),\n",
    "))\n",
    "    \n",
    "# TODO n_trials\n",
    "\n",
    "def benchmark_compression(records):\n",
    "    comp_results = dict()\n",
    "\n",
    "    for comp in ['none'] + list(strax.data.COMPRESSORS.keys()):\n",
    "        print(comp)\n",
    "        fn = f'test_{comp}'\n",
    "\n",
    "        save_times = []\n",
    "        with ctt.Timer() as t_save:\n",
    "            strax.save(fn, records, compressor=comp)\n",
    "        with ctt.Timer() as t_load:\n",
    "            strax.load(fn)\n",
    "\n",
    "        r = dict()\n",
    "        r['save'] = t_save.elapsed\n",
    "        r['load'] = t_load.elapsed\n",
    "        r['reduction'] = os.path.getsize(fn + '.' + (comp if comp != 'none' else 'npy')) / records.nbytes\n",
    "        comp_results[comp] = r\n",
    "\n",
    "        strax.delete(fn)\n",
    "        \n",
    "    return comp_results\n",
    "\n",
    "comp_perf_raw = benchmark_compression(records_raw)\n",
    "comp_perf_bl = benchmark_compression(records)"
   ]
  },
  {
   "cell_type": "code",
   "execution_count": 18,
   "metadata": {},
   "outputs": [
    {
     "name": "stderr",
     "output_type": "stream",
     "text": [
      "/home/jelle/anaconda3/envs/36/lib/python3.6/site-packages/matplotlib/style/core.py:53: UserWarning: Style includes a parameter, 'backend', that is not related to style.  Ignoring\n",
      "  \"to style.  Ignoring\".format(key))\n"
     ]
    }
   ],
   "source": [
    "plt.style.use('latex_thesis')"
   ]
  },
  {
   "cell_type": "code",
   "execution_count": 21,
   "metadata": {},
   "outputs": [
    {
     "data": {
      "image/png": "[encoded data removed]",
      "text/plain": [
       "<matplotlib.figure.Figure at 0x7ff1d54a04e0>"
      ]
     },
     "metadata": {},
     "output_type": "display_data"
    }
   ],
   "source": [
    "plt.scatter([100 * zlib_pickles_reduction], [300/zlib_pickles_time*2],   #*2 since save + load\n",
    "            marker='*', color='red', label='Pax')\n",
    "\n",
    "for cp, label in ([comp_perf_raw, 'Full pulse'], [comp_perf_bl, 'Baselines cut']):\n",
    "    \n",
    "    df = pd.DataFrame(cp).T\n",
    "    x = 100 * df['reduction']\n",
    "    y = 300/df['save']\n",
    "\n",
    "    plt.scatter(x, y, label=label)\n",
    "    for i in range(len(df)):\n",
    "        comp = df.index[i]\n",
    "        plt.annotate(comp if comp != 'none' else 'raw', \n",
    "                     (x[i], y[i]),\n",
    "                     horizontalalignment='center')\n",
    "        \n",
    "plt.ylabel(\"Save speed (MB raw/s/core)\")\n",
    "plt.xlabel(\"File size (\\% of raw)\")\n",
    "plt.yscale('log')\n",
    "plt.ylim(5, 2000)\n",
    "plt.grid(alpha=0.2, which='both')\n",
    "\n",
    "plt.xscale('log')\n",
    "plt.legend(loc='lower right')\n",
    "\n",
    "xticks = list(plt.xticks()[0])\n",
    "#xticks += [15]\n",
    "plt.xticks(xticks)\n",
    "plt.xlim(10, 110)\n",
    "\n",
    "ax = plt.gca()\n",
    "for axis in [ax.xaxis]:    \n",
    "    axis.set_major_formatter(matplotlib.ticker.FormatStrFormatter('%g'))\n",
    "    axis.set_minor_formatter(matplotlib.ticker.FormatStrFormatter('%g'))\n",
    "plt.tight_layout()\n",
    "plt.savefig('compression_benchmark.pdf')"
   ]
  },
  {
   "cell_type": "code",
   "execution_count": 20,
   "metadata": {},
   "outputs": [],
   "source": [
    "#strax.save('triggerless_300MB_comp', records_raw, compressor='bz2')"
   ]
  }
 ],
 "metadata": {
  "kernelspec": {
   "display_name": "Python 3",
   "language": "python",
   "name": "python3"
  },
  "language_info": {
   "codemirror_mode": {
    "name": "ipython",
    "version": 3
   },
   "file_extension": ".py",
   "mimetype": "text/x-python",
   "name": "python",
   "nbconvert_exporter": "python",
   "pygments_lexer": "ipython3",
   "version": "3.6.4"
  }
 },
 "nbformat": 4,
 "nbformat_minor": 2
}
